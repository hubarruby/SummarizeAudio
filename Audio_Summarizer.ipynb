{
  "nbformat": 4,
  "nbformat_minor": 0,
  "metadata": {
    "colab": {
      "provenance": []
    },
    "kernelspec": {
      "name": "python3",
      "display_name": "Python 3"
    },
    "language_info": {
      "name": "python"
    },
    "accelerator": "GPU",
    "gpuClass": "standard"
  },
  "cells": [
    {
      "cell_type": "markdown",
      "source": [
        "Note: this file is view only: you have to make a copy to change any of the code (using \"file\" in the top left of this notebook)\n",
        "# User instruction for people who don't know code very well:\n",
        " - clicking on a cell makes it your \"current cell\", where you can the edit or run it.\n",
        " - pressing the \"run\" button (looks like a play button) on the top left of a cell will run the code in that cell. You can also do this with shift+enter at the same time.\n",
        " - you should run code in order (starting with the top cell) and avoid rerunning cells unless something goes wrong\n",
        " - You will need to import the .mp3 (audio only) of your desired youtube video into the file section on the leftmost tab in this google colab notebook (instructions for generating this are in a cell below)\n",
        " - some cells, when you run them, will prompt you to enter an input below the cell. Type the input into the little box that shows up below the cell and then press enter!\n",
        "\n",
        " # Other Notes (this is not perfect):\n",
        " - The audio model will not hear every word perfectly.\n",
        " - The sumarizing process will sometimes attritube quotes or actions to the wrong people in the video\n",
        " - the sumarizing process might miss key details if the summarizing chunks are too large (you can specify/change this to avoid that though).\n"
      ],
      "metadata": {
        "id": "X-N145vpJnvN"
      }
    },
    {
      "cell_type": "markdown",
      "source": [
        "# STEP 1 -- Import your youtube video mp3 file into the left side of the colab:"
      ],
      "metadata": {
        "id": "1tNJZYlPVuVA"
      }
    },
    {
      "cell_type": "code",
      "source": [
        "# if you need to convert audio from youtube, use\n",
        "# https://yt1s.de/youtube-to-mp3?l=en (the website is kinda sus, so beware of granting browser permissions and stuff)\n",
        "\n",
        "# define the name of the audio file (.mp3) (name is whatever the file name is once you've downloaded the .mp3)\n",
        "# this example is just a random mrbeast video\n",
        "audio_file = input('What is the name of the audio file being processed? (Include \".mp3\" at the end): ')"
      ],
      "metadata": {
        "colab": {
          "base_uri": "https://localhost:8080/"
        },
        "id": "yp4uFfq4VraU",
        "outputId": "54a312d1-8c76-4c0e-e1ca-43813c360ef6"
      },
      "execution_count": 1,
      "outputs": [
        {
          "name": "stdout",
          "output_type": "stream",
          "text": [
            "What is the name of the audio file being processed? (Include \".mp3\" at the end): mrbeast.mp3\n"
          ]
        }
      ]
    },
    {
      "cell_type": "markdown",
      "source": [
        "# STEP 2 -- Other Setup"
      ],
      "metadata": {
        "id": "hPfOKq6eVmiW"
      }
    },
    {
      "cell_type": "markdown",
      "source": [
        "### Misc Imports and setup:\n",
        "(this might take a minute or two. If you have already ran the full code all the way through with one video during this session, then you should be able to skip this one cell to save time)"
      ],
      "metadata": {
        "id": "LAKcpxJyWBuY"
      }
    },
    {
      "cell_type": "code",
      "execution_count": 2,
      "metadata": {
        "id": "1dYJEl1HYbw4"
      },
      "outputs": [],
      "source": [
        "# for most purposes, it's not worth understanding what's going on in this cell. Just run it and move on.\n",
        "%%capture\n",
        "!pip install git+https://github.com/openai/whisper.git\n",
        "!pip install transformers\n",
        "!pip install nltk gensim\n",
        "\n",
        "# imports\n",
        "import whisper\n",
        "from transformers import pipeline\n",
        "import gensim\n",
        "import nltk\n",
        "from nltk.tokenize import word_tokenize\n",
        "from nltk.tokenize import sent_tokenize\n",
        "nltk.download('punkt')\n",
        "\n",
        "# bring in the summarizing model\n",
        "summarizer = pipeline(\"summarization\", model=\"philschmid/bart-large-cnn-samsum\")\n",
        "audio_to_text_model = whisper.load_model(\"base\")"
      ]
    },
    {
      "cell_type": "markdown",
      "source": [
        "### Turn the audio into text"
      ],
      "metadata": {
        "id": "YHkYoMRBXKlv"
      }
    },
    {
      "cell_type": "code",
      "source": [
        "# transcribing the mp3 into words using openAI whisper\n",
        "result = audio_to_text_model.transcribe(audio_file)[\"text\"]\n",
        "print(result[:150])  #this line shows the first few words so you can check if it's being processed correctly"
      ],
      "metadata": {
        "id": "uMWUfIhKWWsJ",
        "colab": {
          "base_uri": "https://localhost:8080/"
        },
        "outputId": "09251262-781a-4328-a588-d6156bdc9aff"
      },
      "execution_count": 3,
      "outputs": [
        {
          "output_type": "stream",
          "name": "stdout",
          "text": [
            " I built a massive isolation chamber. And we're gonna see if these two strangers can survive in this chamber for the next 100 days. They have never me\n"
          ]
        }
      ]
    },
    {
      "cell_type": "markdown",
      "source": [
        "### Print the Audio Transcript:"
      ],
      "metadata": {
        "id": "9OaF9IqKVbKk"
      }
    },
    {
      "cell_type": "code",
      "source": [
        "result"
      ],
      "metadata": {
        "colab": {
          "base_uri": "https://localhost:8080/",
          "height": 1000
        },
        "id": "aA4NAVOZJd0F",
        "outputId": "9d3674f4-a85d-48f9-cca6-96402d0c9c7e"
      },
      "execution_count": 4,
      "outputs": [
        {
          "output_type": "execute_result",
          "data": {
            "text/plain": [
              "\" I built a massive isolation chamber. And we're gonna see if these two strangers can survive in this chamber for the next 100 days. They have never met each other ever, Bailey. This is Susie. Susie, this is Bailey. Nice to meet you. Hi, nice to meet you. If the two of you can survive the next 100 days in here, I will give you the half a million dollars inside of this bowl. But if one of you leaves before the 100 days is up, you both get nothing. Alright, I think you guys understand the rules. Have fun. Okay, bye. This is gonna be crazy. Um... Yeah. This is actually like an insane asylum. They're currently looking at all the stuff we put in there. We gave them enough food for 100 days. Which is healthy, but basically the exact same thing over and over again. We also gave them their own private bathroom, which comes with the shower. And obviously has no cameras inside. And a bed to sleep on. They have everything they need to survive 100 days. It's just a question of, do they want it? I got a comb. I don't know if I ever comb my hair in my life. Interesting. See how they're both standing on different sides of the room? They're so awkward. When I had them take their blindfolds off, that was legitimately the first time they had ever met. I just keep taking up the feeling of, like, of accident. Oh yeah. How good is that gonna feel? Oh. It's only 100 sleep. Only 100 sleeps. And then the world will have just kept going. That's like what freaks me out. The most interesting part of this experiment is that in this room, you have no idea what day or time it is. And already on night one, Suzy and Bailey made the mistake of only sleeping for two hours. Which means they started their second day at 237 a.m. Just gonna just act like this is just the new normal. Okay, what do you want to eat? Are you feeling beef or chicken? Hmm, chicken. Chicken sounds great. Nice chicken. Thanks, good. As you can see, living inside a white cube is pretty boring. Besides eating the same thing over and over, time in the chamber consisted of two things, trying to hide from the bright light. The lights are just so bright that we have to make these things too shield ourselves. And desperate attempts to keep themselves entertained. Like on day four, when they use the paper from their journals to make a deck of playing cards. To be making... card? All right, so I just finished my deck of cards. I think that they actually came out all right. Which honestly looked pretty fun. So I made myself a $30,000 seat and joined it. On day five, they made a sign-in sheet, which was really just an elaborate trip. What is this? You have to sign our sign-in sheet. Oh, these are our camera people. Yeah, this is everyone that's come in today. Wait a minute. You're having them do this. You contract the day. And the time. Hold up. I did the ball this time. No, no, I wrote the date. I wrote the date. The check out I say was pretty smart. But by the time we got the day seven, anything considered smart was thrown out the window. Bailey's lost it. He's whipping the poor. Yeah, the bed he's never stood a chance. Five more throws. But I only need one. What's freaking go, baby? It's actually crazy to me that already on day nine of this challenge, they're important enough to expose the red line. That if they cross, they lose every dollar of their prize money. It is now day number 10. How you doing, Nolan? Good. And I got a pretty interesting offer. What is the course of the- Oh! So it looks like they took the $500,000 and put $250 on her side and $250 on his to remind themselves of what's at stake. This is the whole door of anything so dramatic. How's it going? We're about to reveal the most interesting part of the challenge. I need you to just face this wall. They don't even know that there's a door back here. Let's do this. This is our first time seeing the outside world into you. You are hitting me. The sky. Every 10 days, I will give you something that will make the challenge easier. But if you actually want it, you have to pay for it with some of your prize money. And first for day 10. We're going to give you an option to buy a private chef. Don't cook you whatever you want between now and the end of the challenge. For $50,000. Before you answer. If you want to give up some of your prize money, we're going to let you have a nice meal. Use this as a floor for your imagination as to what you could be eating for 90 more days. You are kidding me. 50 grand a lot though. Let's not think about it right now. Please look like some people that have only canned chicken for 10 days. I love just looking at the sky. You forget that they literally haven't seen the sun in 10 days. Now I feel bad. After eating this, the thought of that food is like grossing me out. It's even worse. Rough. They're starting to talk about whether they should take it. I don't know what to do. Oh, yeah. This is a good first one to tempt us with. Oh no. Hey, Jimmy. All right. It's time for the decision. Would you pay $50,000 to have this for the rest of the challenge? Nope. I think we decided no. Really? I honestly didn't think you guys would say no. Another offer in 10 days. We'll see if you came then. I really thought you were going to say yes. That was crazy. Bye. I'm really curious what the next temptation is. I know. But you know what? I'm proud of us for saying strong. Good job. And now with the chef gone, it seemed like Susie and Bailey were already starting to regret their decision. Bon appetit. My favorite part of the week can hold it sideways. That it stays on the plate. The next few days were pretty mind-numbing for the both of them. Their routine consisted of waking up, cooking food, and then eventually just going back to sleep. Man, the longer I'm in here, the more I feel like I'm sharing a space within an annoying sibling. I can't tell you how mean. Well. And even though they were getting used to each other, one thing they weren't getting used to were the constant, beaming light. It's just so bright in there. I came to the bathroom because the light, you can keep it off. So it's nice and dark in here. Once it gets super late at night, I physically feel my eyes stinging just because of how bright the lights are in here. And because it was so hard for them to get any sleep, I had the perfect offer planned for day 20. Congrats, your 20% done. Are you too ready for the offer? Yes. Your day 20 offer is simple. I will give you each a smart bed that are super comfortable and combined will cost $50,000 of your prize money. I will also give you this iPad with the ability to turn off the lights. Dang. You have exactly one hour to decide if they want to spend $50,000 of their prize money. For these beds, the ability to turn off the lights. Yes, or might be yes. I haven't seen Suzy this happy since we literally started the challenge. Let's remember what we would have to live with if we don't say yes. Oh my gosh. Oh my gosh. I think they're going to take it. I think we should. It's only 10% of our money. It's decision time. You're one hour's up. This is what your eyeballs could have. But if you say no, this is what you're stuck with. For 80 days straight, do you want these comfortable beds? I'm actually okay with whatever you say. Five, four. Oh my gosh. Three, I think I do whatever you say. Two, yes or no. Bailey, yes or no. One, what's your decision? No. Really? Okay, well, I did not see that one coming. I think I made a mistake, maybe. Oh, what a heavy mistake. I cannot believe you guys said no. I'll leave you alone for a couple of days. I hope you don't regret your decision. Bye. Bye. I think we made the right decision. I can't believe that in the heat of the moment you said no. Oh, I feel that slight regret right now. I don't. I feel no regret in your decision. So today I made my calendar and I was just writing my mom's birthday. It's going to be tough on that day, I think. I'm so bored. I think that we're hitting a point where boredom is at like the all-time high. I woke up this morning and didn't feel like doing anything so I just sat there and stared. You're going to do this with this money. I have a house. I was probably going to pay a lot on the house. Oh, that's awesome. I want to pay off my parents debt. That would be like my ideal world. Throughout the following days, I made sure to not interrupt the routine. However, I was also taking note of things they missed from the outside world. Like on day 24, when I overheard them wanting seasoning on their food. Okay, if we had seasoning, I could easily stay here 100 days. On day 27, Susie was craving coffee. I am a big coffee drinker and I lay of water. And on day 28, Bailey clearly needed entertainment. So by day 30, I had the perfect plan to get them to spend money. It's now day 30, it's time for another offer. How's it going? Hi. Today's offer is simple. Each of these five items costs $10,000. You can buy one phone call, the entire Harry Potter collection, your own coffee machine, spices, salt, and pepper for your food. Or you can buy them a naffly for $10,000. You can buy one of them. You can buy all five of them. This is tough, actually. Do you have 10 minutes to decide? Just let me know if you want. I'm so nervous. This is a big decision. Coffee, it doesn't kind of nice. It does. And then the seasoning. Seasoning sounds nice too. I'm doing this one 1,000%. I'll be honest with you. I don't really care about that. Sick. Coffee would be nice. There's like a treat every morning. I've made my mind up. Decision time. Are you buying monopoly? No. God. Are you buying the spices? No. No. Are you buying the coffee? Does it come with cream or sugar? If you say yes to three seconds. Yes. OK. Are you buying the Harry Potter books? Yes. Are you buying the phone call? No. No. We finally got you to buy something. This feels good. Most pleasure doing business. Thanks for saying it, Hermione. Most expensive coffee maker in the world. 30 days in, we got something new. That's exciting. We caved you welcome. That's my closet. That's my bookshelf. I could stand over 70 days. And we still have $480,000. It's crazy. Over the next few days, not a lot happened. She's already preparing a meal. It's like being married. The most interesting thing was when her, Ken Idolia, took out the power on day 34. Oh, no way. No way. As you can imagine, our cameras became pretty useless. So I'm just going to take you to day 39. How's it going? Hello. Hi. Hey. I know you guys have been struggling. I'm sorry, it took so long. Hold up. No, there we go. That was a long delay. You should be able to use your coffee pot again. Cook food. You should have hot shower. That's excellent. I'll see you tomorrow with the surprise. Oh, I'm so excited. Yay! The power's on. Look, it's light. It feels like cheerier. The lights are back on. Again, I just had a hot meal. Hot shower. Life is finally looking up here. It is now day 40. Can I come in? Come in! Your gift at no expense is this TV. But every single movie is $10,000 a pop. You have one hour to decide. Have fun. This is crazy the amount of movies in here. We can watch this documentary about Nolan. We love Suzy and Bailey to discuss the offer and told them we'd be back later. But they didn't seem too interested. How about 10 grand for all? I'll go ahead and tell you now. No. You might as well just come in here because I think we both are uh, set in our ways. Okay. The best I could do is buy one, get one half off. Hmm. Can't do it. All right, gang. Come on in. Take every last one. I will gladly keep this. Oh, not any of the Hunger Games? I left the TV in the chamber to remind Suzy and Bailey of what they could have had. But little did I know they were going to outsmart me. An antenna is just a piece of metal. Rip this little wire off the wall. So I had to take this knife so that the wire is like, afraid. I literally just plugged it into the antenna spot. Now we're going to see if it works. Just anything. Give us one channel. Oh. What? It says that there's seven digital channels. Oh my gosh. If this actually works, wait, I'm like actually shaking. Bailey! Currently the only thing that we can get on the TV is a race car race. And then really been a fan. Oh, he's in second. But today, all of a sudden, we're huge race car fans. Our time is going to fly by. And Suzy was right because for the next six days, that's all they did. Having the TV feels like we're in a purgatory. It's like almost normal life. It is my mom's birthday tomorrow, even though I won't be able to spend the day with her. I got some time in here to make her a little birthday present. Although I didn't go out and buy something, I'm technically spending money on it. Tomorrow is day 50, so I'm going to use toilet paper to do streamers and decorate the room. It's day 50. Oh. Oh, hey. So what do you think your surprise is today? I have no idea. This one is a very big one. All right, so the offer for day 50 is $20,000 for the both of you to see your families. They're in the other room watching that feed and they can hear everything we're saying. What? Hey, I miss you guys. I love you. I miss you. I'll be back in 10 minutes to hear if you're going to take the offer. Good luck. 10 minutes. This feels like a pretty decision. What are your thoughts? Oh my gosh, I don't know. This might be the only chance in this challenge to see them until the end. I think it's a no-brainer, personally. So it's up to you on if we spend a $20 grand for both. Of course, I want to see my parents. You're so funny. He's a yes and she's a no-brainer. She's dad, tell me what to do. All right. What are you thinking? Where are you guys at? He's been a yes and we'll be getting. As soon as you set it. About 10 seconds left. But it's my mom's birthday today. And we're saying yes. All right, give me $20,000. No, go get him. Best 10k ever spent, I think. Okay. They spayed the 20 grand. Come on in. I'm so excited. No! No! No! No! No! No! No! That's a good one. We just talked to Susan. So excited. I made you a birthday. And that celebrate her birthday. We brought a birthday cake. Yes. This is the best tasty thing they've had in forever. It's little things like that that you don't realize you won't have until you're in it. Bye. Bye. Bye. That's the worst feeling so far. The highest of highs and now back to our little cube all alone. Like I said earlier, the things we're offering them are based off of what we're overhearing them talk about in the cube. So you better believe that when Susie said this. Probably the only thing I'd say yes to at this point is like if they do a Tesla. You already know on day 60, I knew exactly what to surprise them with. How's it going? Hi. Oh hey. First things first. I brought you a giant mystery gift. Yay. Do the two of you want to spend $50,000 to keep what's inside of this box? Hmm. Is either going to be the best moment of their life or the worst moment? Just give me your answer in an hour. All right, thanks. We'll be thinking. 59 minutes remain. I think we should. I know. I think it might be worth it. Imagine it is something great we said now. Would it ever be a car? Well, it could be. It could actually be the keys to a car. It's not going to be equal to the value that we're spending. She's right. It's almost three times more. I don't feel confident in the yes. Then let's say no. But are you sure? Yeah. If you were not confident. I just know they would never do a car. Yeah, they would. I feel like they could do anything. Let's just say no. Wait, now you have me wondering to say yes. Decision time. Okay. Do you want to spend $50,000 to keep what's inside this box? Yes or no? No. Really? What is your answer? I'm going with no. Really? Yeah. I can't believe you guys didn't take it. Do you want to unlock it? All right. Inside is $50,000 so you wouldn't got your money back. And then you want to open up that stack of money? Just grab that. Here is a Tesla key for you. And a Tesla key for you. That's so sorry. They would have gotten their money back plus these two Teslas for free. Oh, I want to cry. I like the Tesla key. That's literally my dream. We're going to head out. You leave the beef. Thank you. Bye. That's speed. Wild. Bailey, thank God it's Tesla's. I feel like we made the wrong decision. I'll regret this forever. Yeah, yeah, I will. Oh no, it's all a dream. I like my Prius. Okay, there I set it. And after getting hit hard by yesterday's offer, Suzy literally whined about the Tesla for nine days straight. It's really hard to see the positive in all this. I like actually won't be able to sleep. I'm actually feeling sick right now. I'm so mad. Suzy's taking it hard. And so to make up for it, I made sure this next offer was the best one yet. It's day 70. Today's a big day because this is the last offer. It's obviously on day 80. There's only 20 days left. And on day 90, you're gonna be like, why would we spend money? There's 10 days left, correct? Yeah. Let me just open the doors. Oh, God. No shot you reject this offer. What you see here is everything you said no to so far in this channel. Before I tell the price tag, I'm gonna move everything in here. I'm gonna make it as easy as possible for the CES. Nolan, just put those by the TV. Oh. As much as I loved a bully Nolan, he's just dumb. Here's the bad. If you guys say no, we have to move all of this back out. Well, then give us a good price. What you are considering buying is these two $30,000 beds. A brand new mystery box. This one doesn't have 50 grand inside. It has something else. Sounds like 25 grand. One phone called each. Spices, monopoly. Every single movie in the wall, or movie, ought to. And lastly, the cook you said no to. Oh, there is a plate of food. I see a lot of good food. And to remind you how good it is, here's some chicken alfredo. That looks so good. It's time to find out how much this will cost you. Behind these curtains is the number. If you bid higher than that number, you get everything here for the rest of the challenge. But if you say $1, $1 penny lower, you get nothing. I'll give you an hour to figure out your bid. I'm thinking, what if it's like way low? And they want us to say 150 grand. I think if we bid 75, that would be too little. They're thinking at least 100k. I actually feel like we should go a little bit lower. Because we were prepared to say no to it. That's true, but are you prepared to walk away with that? And while they're deciding what to do, I want to tell you about the shop app. The shop app is the best way to shop on your phone. And it's completely free. It'll basically look at everything you're interested in and recommend you products you love. This is the only wild card. Because we know what beds are, and we know what movies are. We don't know what's in here. I have a feeling I want whatever is inside. It's actually a third contestant. Boom. And when you're ready to buy, you can speed through checkout using Shop Pay. Let's do this. 80 grand 101. Because it's day 70. I don't want to go under 70. I feel like this is like gives a space. I get what you're saying, but imagine that was the reason why we didn't end up getting all this. Yeah. I would be so sad. Shop app will even track all your packages in one place. So you don't know exactly when they'll arrive for the holiday. 100,000 and 100 dollars. Yeah, it's not really that much damage. Okay, this is the one. Ready? Yeah, official. All right. We're flipping it. I hope we get it. Let the shop app AI Assistant scan hundreds of millions of products all over the shop app to recommend these perfect gifts for this holiday season. Time is up. What's the number? Let me see it. Before you do, make sure you download the shop app right now if you haven't already. I explained all the benefits of it. It's a beautiful, amazing app download the shop app. Okay. What is your bid? If it's $1 below mine, you get nothing. $100,101. Chandler. Reveal it. Sixteen. I mean, get it. Yes. You overpaid by 30. I don't care. You get the best. Yo, this is the most excited I've been so far. In this mystery box, which I did clarify was different, it's two. Yes. Smaller Tesla. No, I love this. I'll be teaming up with the shop app to grant thousands of wishes this holiday season. I'll tell you more about it at the end of the video. A room feels drastically different right now. It's a dream. We now have so many things to do. It's like a vacation. It's an investment for sure. I think it was well worth $100,000. You may think, oh, the challenge is over now. But one of them may lose everything. You'll see on day 99 what I'm talking about. Oh my god, this is crazy. Now you would think that getting all this stuff would make both of them a lot happier. But strangely enough, the opposite actually started to happen. One thing I took for granted on the outside was hot shower that I also did not share with anyone. Hot water tank here runs out so quickly and barely always showers before me. So I've been stuck showering with cold water for honestly a couple months now. We've been playing the same monopoly game for like seven days because Susie refuses to play. Like maybe she just hates more games. I think we need to take like three days and cram as many movies as we can. All she ever does is read or watch movies. We got to have like a movie marathon. So whenever I'm like, can we just finish that game? She's like, yeah, yeah, yeah. And then it never ends up happening. It's impossible to get her to focus. Hey, do you want to watch the notebook later? No, I don't want to watch the notebook later. We just spent the last like 25 minutes trying to choose a movie. And Susie, what did you say you're about to go do? Shower. Sorry. She literally does this all the time. Yep. Bailey is wired right now. This happens literally every morning. He just just non-stopped so energetic all the time. I just had to come in here because I can't go anywhere else. That's a rave right there. Bailey, it's 3 a.m. Yeah, but sometimes you got a rave. Oh, get me out of here. Do the words. Do you want to play with an awfully? No. Do you know the dice, sir? Yeah. I had them because you keep asking me to play. So I was like, maybe if I just hide them, then we'll never be able to play. Oh, your toes look so long. No, that's sickening. My dogs are barking. You would like to be saved. Mom, I'm ready to leave. Even though at this point, they could hardly stand each other. With the end so close, they set their differences aside and counted down the days. Four days left. Three. And Bailey, well, it's going to be really couldn't wait to walk out those doors. I wasn't in the middle of saying anything. All right, day 99. For me, it feels like it's been honestly an entire year. I can't imagine what they're feeling. I have to brush my teeth one more time. Ever. 24 hours remain. This many. Yes. So this is the first second of the challenge when you've all walked in. Oh my god. How is that noise? I feel like I'm, look like I'm fetus. Come on in, gentlemen. Side it up right above the door. Oh, this is so exciting. You officially have 24 hours left in the challenge. Don't forget what I said. We got a fun twist for tomorrow. I'm scared. Do you think there'll still be friends after this? Depends what their answer is tomorrow. I'm worried that it's going to be double or nothing. He's so quiet about it. He can't guess. And with their final night coming to an end, it was time to present them with an opportunity to double their money. Oh hey everyone. This is chaotic. What is going on? I don't know. Big boy. I want to help but not really. They're literally just taking everything. Do you know what these are? Those are our blindfolds from the first day. That was quick. I remember it like it was yesterday. If you would both please put them back on. Let's see if they want to double their money. Yay! Oh my gosh, my heart is actually getting out of my chest. A hundred days ago, they were strangers. One hour ago, they were best friends. Let's see if they become total enemies. Alien Susie, take your blindfolds off. So, you might be familiar with what we're about to offer you. You each have the choice to split the money and nothing changes. You both hit split, you just split it, keep what you have. Or if you hit steal, you can steal the other person's money. And if you both hit steal, you would get nothing. Susie has ear plugs in and noise cancellation headphones on top of them. She can't hear us. What's going on? I don't even know. Susie, if you hit steal, I can't imagine it. What do you say to somebody that steals 180, whatever? Maybe you get ahead of it and you steal it. There. You hear that? Bailey actually might. Bailey might. All right, throw the music back in his ears. What if while we were over there, he was like, oh, this is no very nice too much money. We would never speak again. You guys would become such close friends. I don't know, you get to know anyone. And when you've gone through the same thing, and how hard this challenge has been, we both deserve half, for sure. And now you make me nervous. Like, I could do it too. Whoa. What is she to say? Maybe it'll be a case of you. Thank you, know someone. I don't know. If both of them press the steal button, they literally spend 100 days in this room together for absolutely nothing. There's 30 seconds left in the challenge. At the very last second, I want you both to place your vote. Do you want to walk away with 360 grand or half of it? No one speak. Carl and Chris, YouTube don't talk to you either. I know that Susie's going to split, but the thought of walking away with almost $360,000. That could do so much. Do you want to split the money or steal it? The fact that I entered this challenge. Three. Knowing that there would be pretty dark times ahead. Two. And I still overcame all those things. One. There's no price you could put on that. No way. If the room turns red, then someone stole. If the room turns green, then you split the money. You both chose split. Congratulations, that's my win. Yay! There you go. Here's your money. And then both of you are. I like it said in the video. Don't forget to download the shop app. If you go on my store and the shop app, you can tell me whenever you want to the holiday. And I'm going to make $5,000 or missions. You can say like a Tesla, UDO, Bart, Beast World Bar, it doesn't matter. Thank you shop app. I appreciate you so much. And as always, let's blow this place up.\""
            ],
            "application/vnd.google.colaboratory.intrinsic+json": {
              "type": "string"
            }
          },
          "metadata": {},
          "execution_count": 4
        }
      ]
    },
    {
      "cell_type": "markdown",
      "source": [
        "# STEP 3 -- First pass of summarizing"
      ],
      "metadata": {
        "id": "n5-DUDKDKa6D"
      }
    },
    {
      "cell_type": "markdown",
      "source": [
        "## Chunking text and summarizing it\n",
        "Specify the chunk size after running the cells below (chunk size = ~number of words being summarized at once)\n",
        "- Do not exceed ~750 for chunk size, since the summarizing AI model is too small to be able to process any more words than that at one time\n",
        "- Chunk size = 1 means that the model will try to include only 1 word in each summarized section. This is not ideal.\n",
        "- Good values probably sit somewhere between 300 and 700.\n",
        "- Bigger values (close to 700) mean the summary will be a little smaller, which might be good for large videos.\n",
        "- Alternatively, smaller values will allow more details and granularity in the summary."
      ],
      "metadata": {
        "id": "S_dHBiUaSBVQ"
      }
    },
    {
      "cell_type": "markdown",
      "source": [
        "#### Misc function definition (just run the cell, don't bother to read)"
      ],
      "metadata": {
        "id": "muW1weFgX2LU"
      }
    },
    {
      "cell_type": "code",
      "source": [
        "# defining a funciton that splits text into chunks of roughly the same size, for processing into the summarizer\n",
        "def splitter(n, text):\n",
        "    # Tokenize the text into sentences\n",
        "    sentences = sent_tokenize(text)\n",
        "\n",
        "    # Initialize variables\n",
        "    chunks = []\n",
        "    current_chunk = []\n",
        "    current_chunk_word_count = 0\n",
        "\n",
        "    # Group sentences into chunks approximately the size of 'n' words\n",
        "    for sentence in sentences:\n",
        "        sentence_word_count = len(sentence.split())\n",
        "\n",
        "        if current_chunk_word_count + sentence_word_count > n and current_chunk:\n",
        "            # If the current chunk is full, add it to the chunks list\n",
        "            chunks.append(' '.join(current_chunk))\n",
        "            current_chunk = []  # Reset the current chunk\n",
        "            current_chunk_word_count = 0\n",
        "\n",
        "        # Add the sentence to the chunk\n",
        "        current_chunk.append(sentence)\n",
        "        current_chunk_word_count += sentence_word_count\n",
        "\n",
        "    # Add the last chunk if it's not empty\n",
        "    if current_chunk:\n",
        "        chunks.append(' '.join(current_chunk))\n",
        "\n",
        "    return chunks"
      ],
      "metadata": {
        "id": "j5sIH2OGXPNF"
      },
      "execution_count": 38,
      "outputs": []
    },
    {
      "cell_type": "markdown",
      "source": [
        "### Actually sumarizing:\n",
        "(this might take a minute or two to run)\n",
        "(Be sure to specify a chunk size after running)"
      ],
      "metadata": {
        "id": "utDZK64kXsuN"
      }
    },
    {
      "cell_type": "code",
      "source": [
        "chunk_size = input(\"Enter summarizer chunk size: \")\n",
        "split_text = splitter(int(chunk_size), result)\n",
        "first_pass = ''\n",
        "i = 0\n",
        "total_len = len(split_text)\n",
        "# summarizing chunks of the audio and concatenating them together into the first_pass variable\n",
        "if input(\"show what's being summarized as it get's processed? (y/n): \").lower() == 'y':\n",
        "  print()\n",
        "  for co, subtext in enumerate(split_text):\n",
        "    print(f'Summarizing {co+1}/{total_len} Sections. Current text being summarized:  ', subtext, '\\n\\n'); i += 1\n",
        "    first_pass += summarizer(subtext)[0].get('summary_text') + '\\n'\n",
        "else:\n",
        "  print()\n",
        "  for subtext in split_text:\n",
        "    first_pass += summarizer(subtext)[0].get('summary_text') + '\\n'"
      ],
      "metadata": {
        "colab": {
          "base_uri": "https://localhost:8080/"
        },
        "id": "kQgCW_CSSAs9",
        "outputId": "8939cb7d-88bf-4fee-9a07-d8ee02e06491"
      },
      "execution_count": 46,
      "outputs": [
        {
          "output_type": "stream",
          "name": "stdout",
          "text": [
            "Enter summarizer chunk size: 300\n",
            "show what's being summarized as it get's processed? (y/n): y\n",
            "\n",
            "Summarizing 1/4 Sections. Current text being summarized:    I built a massive isolation chamber. And we're gonna see if these two strangers can survive in this chamber for the next 100 days. They have never met each other ever, Bailey. This is Susie. Susie, this is Bailey. Nice to meet you. Hi, nice to meet you. If the two of you can survive the next 100 days in here, I will give you the half a million dollars inside of this bowl. But if one of you leaves before the 100 days is up, you both get nothing. Alright, I think you guys understand the rules. Have fun. Okay, bye. This is gonna be crazy. Um... Yeah. This is actually like an insane asylum. They're currently looking at all the stuff we put in there. We gave them enough food for 100 days. Which is healthy, but basically the exact same thing over and over again. We also gave them their own private bathroom, which comes with the shower. And obviously has no cameras inside. And a bed to sleep on. They have everything they need to survive 100 days. It's just a question of, do they want it? I got a comb. I don't know if I ever comb my hair in my life. Interesting. See how they're both standing on different sides of the room? They're so awkward. When I had them take their blindfolds off, that was legitimately the first time they had ever met. I just keep taking up the feeling of, like, of accident. Oh yeah. How good is that gonna feel? Oh. It's only 100 sleep. Only 100 sleeps. And then the world will have just kept going. That's like what freaks me out. \n",
            "\n",
            "\n",
            "Summarizing 2/4 Sections. Current text being summarized:   The most interesting part of this experiment is that in this room, you have no idea what day or time it is. And already on night one, Suzy and Bailey made the mistake of only sleeping for two hours. Which means they started their second day at 237 a.m. Just gonna just act like this is just the new normal. Okay, what do you want to eat? Are you feeling beef or chicken? Hmm, chicken. Chicken sounds great. Nice chicken. Thanks, good. As you can see, living inside a white cube is pretty boring. Besides eating the same thing over and over, time in the chamber consisted of two things, trying to hide from the bright light. The lights are just so bright that we have to make these things too shield ourselves. And desperate attempts to keep themselves entertained. Like on day four, when they use the paper from their journals to make a deck of playing cards. To be making... card? All right, so I just finished my deck of cards. I think that they actually came out all right. Which honestly looked pretty fun. So I made myself a $30,000 seat and joined it. On day five, they made a sign-in sheet, which was really just an elaborate trip. What is this? You have to sign our sign-in sheet. Oh, these are our camera people. Yeah, this is everyone that's come in today. Wait a minute. You're having them do this. You contract the day. And the time. Hold up. I did the ball this time. No, no, I wrote the date. I wrote the date. The check out I say was pretty smart. But by the time we got the day seven, anything considered smart was thrown out the window. Bailey's lost it. \n",
            "\n",
            "\n",
            "Summarizing 3/4 Sections. Current text being summarized:   He's whipping the poor. Yeah, the bed he's never stood a chance. Five more throws. But I only need one. What's freaking go, baby? It's actually crazy to me that already on day nine of this challenge, they're important enough to expose the red line. That if they cross, they lose every dollar of their prize money. It is now day number 10. How you doing, Nolan? Good. And I got a pretty interesting offer. What is the course of the- Oh! So it looks like they took the $500,000 and put $250 on her side and $250 on his to remind themselves of what's at stake. This is the whole door of anything so dramatic. How's it going? We're about to reveal the most interesting part of the challenge. I need you to just face this wall. They don't even know that there's a door back here. Let's do this. This is our first time seeing the outside world into you. You are hitting me. The sky. Every 10 days, I will give you something that will make the challenge easier. But if you actually want it, you have to pay for it with some of your prize money. And first for day 10. We're going to give you an option to buy a private chef. Don't cook you whatever you want between now and the end of the challenge. For $50,000. Before you answer. If you want to give up some of your prize money, we're going to let you have a nice meal. Use this as a floor for your imagination as to what you could be eating for 90 more days. You are kidding me. 50 grand a lot though. Let's not think about it right now. \n",
            "\n",
            "\n",
            "Summarizing 4/4 Sections. Current text being summarized:   Please look like some people that have only canned chicken for 10 days. I love just looking at the sky. You forget that they literally haven't seen the sun in 10 days. Now I feel bad. After eating this, the thought of that food is like grossing me out. It's even worse. Rough. They're starting to talk about whether they should take it. I don't know what to do. Oh, yeah. This is a good first one to tempt us with. Oh no. Hey, Jimmy. All right. It's time for the decision. Would you pay $50,000 to have this for the rest of the challenge? Nope. I think we decided no. Really? I honestly didn't think you guys would say no. Another offer in 10 days. We'll see if you came then. I really thought you were going to say yes. That was crazy. Bye. I'm really curious what will be next. \n",
            "\n",
            "\n"
          ]
        }
      ]
    },
    {
      "cell_type": "markdown",
      "source": [
        "# VIEW -- The (first) summary:"
      ],
      "metadata": {
        "id": "1lj9E7-ITUmy"
      }
    },
    {
      "cell_type": "code",
      "source": [
        "print(first_pass)"
      ],
      "metadata": {
        "colab": {
          "base_uri": "https://localhost:8080/"
        },
        "id": "YSCvHIC-DggU",
        "outputId": "6b2d074d-f3cb-4c5f-8bca-ca102133cadc"
      },
      "execution_count": 47,
      "outputs": [
        {
          "output_type": "stream",
          "name": "stdout",
          "text": [
            "Susie and Bailey have never met each other before. Bailey built a massive isolation chamber to test if they can survive in it for the next 100 days. If they do, Bailey will give them half a million dollars. If one of them leaves before the 100 days is up, they both get nothing.\n",
            "Suzy and Bailey are living inside a white cube. They have no idea what day or time it is. On day four they used the paper from their journals to make a deck of playing cards and on day five, they made a sign-in sheet. Bailey wrote the date and the ball.\n",
            "Nolan got an interesting offer for the 10th day of the challenge. Every 10 days, he will get something that will make the challenge easier, but he has to pay for it with some of his prize money. Nolan can buy a private chef for $50,000 for 90 days.\n",
            "Jimmy and his friends haven't seen the sun in 10 days and they haven't had any food for 10 days. They are tempted by the offer of $50,000 for the rest of the challenge, but they decide not to take it. There will be another offer in 10 more days.\n",
            "\n"
          ]
        }
      ]
    },
    {
      "cell_type": "markdown",
      "source": [
        "# STEP 5 -- Summarize the Summary, if it is still too much to read:"
      ],
      "metadata": {
        "id": "u7WpOmbhTYSm"
      }
    },
    {
      "cell_type": "code",
      "source": [
        "# frankly this is not really necessary for the test audio file I included in the example\n",
        "\n",
        "split_text2 = splitter(int(chunk_size), first_pass)\n",
        "len2 = len(split_text2)\n",
        "second_pass = ''\n",
        "i = 0\n",
        "\n",
        "if input(\"show what's being summarized as it get's processed? (y/n): \").lower() == 'y':\n",
        "  for co, subtext in enumerate(split_text2):\n",
        "    print(f'Sumarizing subtext {co+1}/{len2}: ', subtext, '\\n\\n'); i += 1\n",
        "    second_pass += summarizer(subtext)[0].get('summary_text') + '\\n'\n",
        "else:\n",
        "  for subtext in split_text2:\n",
        "    second_pass += summarizer(subtext)[0].get('summary_text') + '\\n'\n",
        "\n",
        "print('Second Pass Final Summary:\\n' + second_pass)"
      ],
      "metadata": {
        "colab": {
          "base_uri": "https://localhost:8080/"
        },
        "id": "oSU1-OPcYuWk",
        "outputId": "46db4952-d2de-4308-e3ee-50b2a8c7b4c5"
      },
      "execution_count": 48,
      "outputs": [
        {
          "output_type": "stream",
          "name": "stdout",
          "text": [
            "show what's being summarized as it get's processed? (y/n): y\n",
            "Sumarizing subtext 1/1:  Susie and Bailey have never met each other before. Bailey built a massive isolation chamber to test if they can survive in it for the next 100 days. If they do, Bailey will give them half a million dollars. If one of them leaves before the 100 days is up, they both get nothing. Suzy and Bailey are living inside a white cube. They have no idea what day or time it is. On day four they used the paper from their journals to make a deck of playing cards and on day five, they made a sign-in sheet. Bailey wrote the date and the ball. Nolan got an interesting offer for the 10th day of the challenge. Every 10 days, he will get something that will make the challenge easier, but he has to pay for it with some of his prize money. Nolan can buy a private chef for $50,000 for 90 days. Jimmy and his friends haven't seen the sun in 10 days and they haven't had any food for 10 days. They are tempted by the offer of $50,000 for the rest of the challenge, but they decide not to take it. There will be another offer in 10 more days. \n",
            "\n",
            "\n",
            "Second Pass Final Summary:\n",
            "Susie and Bailey are living in a white cube for the next 100 days. Bailey will give them half a million dollars if they survive. Jimmy and his friends haven't seen the sun in 10 days and haven't had any food for 10 days. Nolan got an interesting offer for the 10th day of the challenge. He can buy a private chef for $50,000 for 90 days.\n",
            "\n"
          ]
        }
      ]
    },
    {
      "cell_type": "markdown",
      "source": [
        "# STEP 6 -- Save the Summaries as a text file"
      ],
      "metadata": {
        "id": "vSCvnGTIVKwo"
      }
    },
    {
      "cell_type": "code",
      "source": [
        "# saving your beautiful summaries, if you'd like\n",
        "file_head = \"summary_file\"\n",
        "\n",
        "with open(file_head + '.txt', 'w') as file:\n",
        "    file.write('First summary: \\n' + first_pass + '\\n\\n\\n Second Summary: \\n'+ second_pass)"
      ],
      "metadata": {
        "id": "XnKlfjuwruUQ"
      },
      "execution_count": null,
      "outputs": []
    }
  ]
}
